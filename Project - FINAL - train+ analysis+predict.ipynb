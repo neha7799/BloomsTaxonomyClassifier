{
 "cells": [
  {
   "cell_type": "code",
   "execution_count": 1,
   "metadata": {},
   "outputs": [],
   "source": [
    "def clean_text(text):\n",
    "    text = text.lower()\n",
    "    #newline\n",
    "    text=text.replace(\"\\n\",\" \").replace(\"\\r\",\" \")\n",
    "    #punc and numbers\n",
    "    punc_list='!@+-\"#$%^&*)(,./:;<>?[\\]_{|}~' +'0123456789'\n",
    "    t=str.maketrans(dict.fromkeys(punc_list,\" \"))\n",
    "    text=text.translate(t)\n",
    "    #single quote \n",
    "    t=str.maketrans(dict.fromkeys(\"'`\",\"\"))\n",
    "    text=text.translate(t)\n",
    "    #extra white space\n",
    "    text=text.strip()\n",
    "    text = ' '.join(text.split())\n",
    "    return text    "
   ]
  },
  {
   "cell_type": "code",
   "execution_count": 2,
   "metadata": {},
   "outputs": [],
   "source": [
    "#https://towardsdatascience.com/benchmarking-python-nlp-tokenizers-3ac4735100c5\n",
    "def tokenizer(text):\n",
    "    words=regexp_tokenize(text,pattern='\\s+',gaps=True)\n",
    "    return words"
   ]
  },
  {
   "cell_type": "code",
   "execution_count": 3,
   "metadata": {},
   "outputs": [],
   "source": [
    "#https://github.com/barrust/pyspellchecker\n",
    "def spell_check(text):\n",
    "    spell = SpellChecker()\n",
    "    word_list=[]\n",
    "    for word in text:\n",
    "        word_list.append(spell.correction(word))\n",
    "    return word_list"
   ]
  },
  {
   "cell_type": "code",
   "execution_count": 4,
   "metadata": {},
   "outputs": [],
   "source": [
    "#https://towardsdatascience.com/text-pre-processing-stop-words-removal-using-different-libraries-f20bac19929a\n",
    "import nltk\n",
    "from nltk.corpus import stopwords\n",
    "sw_nltk = stopwords.words('english')\n",
    "sw_nltk.remove('why')\n",
    "def remove_stopwords(text):\n",
    "    words = [word for word in text if word not in sw_nltk]\n",
    "    return words"
   ]
  },
  {
   "cell_type": "code",
   "execution_count": 5,
   "metadata": {},
   "outputs": [],
   "source": [
    "#https://www.geeksforgeeks.org/python-lemmatization-approaches-with-examples/\n",
    "import nltk\n",
    "from nltk.stem import WordNetLemmatizer\n",
    "from nltk.corpus import wordnet\n",
    "def lemma_pos(stopwords_removed):\n",
    "    def pos_tagger(nltk_tag):\n",
    "        if nltk_tag.startswith('J'):\n",
    "            return wordnet.ADJ\n",
    "        elif nltk_tag.startswith('V'):\n",
    "            return wordnet.VERB\n",
    "        elif nltk_tag.startswith('N'):\n",
    "            return wordnet.NOUN\n",
    "        elif nltk_tag.startswith('R'):\n",
    "            return wordnet.ADV\n",
    "        else:         \n",
    "            return None\n",
    "\n",
    "    lemmatizer = WordNetLemmatizer()\n",
    "\n",
    "    # tokenize the sentence and find the POS tag for each token\n",
    "    pos_tagged = nltk.pos_tag(stopwords_removed) \n",
    "    wordnet_tagged = list(map(lambda x: (x[0], pos_tagger(x[1])), pos_tagged)) #original pos tagging\n",
    "\n",
    "    #lemmatization + pos tagging list\n",
    "    lemma_pos_dict = {}\n",
    "    wordlist = []\n",
    "    for word, tag in wordnet_tagged:\n",
    "        if tag is None:\n",
    "            # if there is no available tag, append the token as is\n",
    "            lemma_pos_dict[word]=tag\n",
    "            wordlist.append(word)\n",
    "        else:       \n",
    "            # else use the tag to lemmatize the token\n",
    "            lemma = lemmatizer.lemmatize(word, tag)\n",
    "            lemma_pos_dict[lemma]=tag\n",
    "            wordlist.append(lemma)\n",
    "    return lemma_pos_dict,wordlist"
   ]
  },
  {
   "cell_type": "code",
   "execution_count": 6,
   "metadata": {},
   "outputs": [],
   "source": [
    "def term_freq(data_words,data_words_verbs):\n",
    "    weights={'v':5,'n':3,'a':3,'g':1,'r':1,None:1}\n",
    "    dict={}\n",
    "    summation=0\n",
    "    for word in data_words:\n",
    "        summation+=weights[data_words_verbs[word]]\n",
    "    for word in data_words:\n",
    "        if word not in dict.keys():\n",
    "             dict[word]=(data_words.count(word) * weights[data_words_verbs[word]])/summation\n",
    "    return dict    "
   ]
  },
  {
   "cell_type": "code",
   "execution_count": 7,
   "metadata": {},
   "outputs": [],
   "source": [
    "def idf(tf):\n",
    "    import math\n",
    "    idf={}\n",
    "    for doc in tf:\n",
    "        for word in doc.keys():\n",
    "            count=0\n",
    "            for docno in tf:\n",
    "                if word in docno.keys() and word not in idf:\n",
    "                    count+=1\n",
    "          \n",
    "            if(word not in idf):\n",
    "                idf[word]=1+math.log(len(tf)/count,10)\n",
    "            \n",
    "    return idf"
   ]
  },
  {
   "cell_type": "code",
   "execution_count": 8,
   "metadata": {},
   "outputs": [],
   "source": [
    "def tf_idf(l,idf_list):\n",
    "    l1=[]\n",
    "\n",
    "    for doc in l:\n",
    "        tfidf={}\n",
    "        for word in doc.keys():\n",
    "            tfidf[word]=idf_list[word]*doc[word];\n",
    "        l1.append(tfidf)\n",
    "    return l1"
   ]
  },
  {
   "cell_type": "code",
   "execution_count": 9,
   "metadata": {},
   "outputs": [],
   "source": [
    "def CSR(tf_idf_dict):    \n",
    "    import numpy as np\n",
    "    import pandas as pd\n",
    "    unique_words=[]\n",
    "    for sentence in tf_idf_dict:\n",
    "        for word in sentence.keys():\n",
    "            if word not in unique_words:\n",
    "                unique_words.append(word)\n",
    "    len_tfidf=len(tf_idf_dict)\n",
    "    len_unique_words=len(unique_words)\n",
    "    df = pd.DataFrame(np.zeros((len_tfidf, len(unique_words))))\n",
    "    df.columns = unique_words\n",
    "    sentno=0\n",
    "    for sentence in tf_idf_dict:\n",
    "        for word in sentence.keys():\n",
    "            df.iloc[sentno][word]=sentence[word]\n",
    "        sentno=sentno+1    \n",
    "    from scipy import sparse\n",
    "    sparse_tfidf=sparse.csr_matrix(df)\n",
    "    return sparse_tfidf,unique_words"
   ]
  },
  {
   "cell_type": "code",
   "execution_count": 10,
   "metadata": {},
   "outputs": [],
   "source": [
    "def CSR_input(unique_words,tf_idf_dict):    \n",
    "    import numpy as np\n",
    "    import pandas as pd\n",
    "    len_tfidf=len(tf_idf_dict)\n",
    "    len_unique_words=len(unique_words)\n",
    "    df = pd.DataFrame(np.zeros((len_tfidf, len(unique_words))))\n",
    "    df.columns = unique_words\n",
    "    sentno=0\n",
    "    for sentence in tf_idf_dict:\n",
    "        for word in sentence.keys():\n",
    "            df.iloc[sentno][word]=sentence[word]\n",
    "        sentno=sentno+1    \n",
    "    from scipy import sparse\n",
    "    sparse_tfidf=sparse.csr_matrix(df)\n",
    "    #print(unique_words[:10])\n",
    "    return sparse_tfidf"
   ]
  },
  {
   "cell_type": "code",
   "execution_count": 11,
   "metadata": {},
   "outputs": [],
   "source": [
    "#0-anaylsing 1-applying 2-creating 3-evaluating 4- remembering 5-understanding\n",
    "def getLevel(x):\n",
    "    if(x==0):\n",
    "        return 'analysing'\n",
    "    elif(x==1):\n",
    "        return 'applying'\n",
    "    elif(x==2):\n",
    "        return 'creating'\n",
    "    elif(x==3):\n",
    "        return 'evaluating'\n",
    "    elif(x==4):\n",
    "        return 'remembering'\n",
    "    elif(x==5):\n",
    "        return 'understanding'\n",
    "    else:\n",
    "        return 'error'"
   ]
  },
  {
   "cell_type": "code",
   "execution_count": 12,
   "metadata": {},
   "outputs": [
    {
     "data": {
      "text/html": [
       "<div>\n",
       "<style scoped>\n",
       "    .dataframe tbody tr th:only-of-type {\n",
       "        vertical-align: middle;\n",
       "    }\n",
       "\n",
       "    .dataframe tbody tr th {\n",
       "        vertical-align: top;\n",
       "    }\n",
       "\n",
       "    .dataframe thead th {\n",
       "        text-align: right;\n",
       "    }\n",
       "</style>\n",
       "<table border=\"1\" class=\"dataframe\">\n",
       "  <thead>\n",
       "    <tr style=\"text-align: right;\">\n",
       "      <th></th>\n",
       "      <th>Text</th>\n",
       "      <th>Target</th>\n",
       "    </tr>\n",
       "  </thead>\n",
       "  <tbody>\n",
       "    <tr>\n",
       "      <th>0</th>\n",
       "      <td>About what proportion of the population of the...</td>\n",
       "      <td>remembering</td>\n",
       "    </tr>\n",
       "    <tr>\n",
       "      <th>1</th>\n",
       "      <td>Correctly label the brain lobes indicated on t...</td>\n",
       "      <td>remembering</td>\n",
       "    </tr>\n",
       "    <tr>\n",
       "      <th>2</th>\n",
       "      <td>Define compound interest.4.</td>\n",
       "      <td>remembering</td>\n",
       "    </tr>\n",
       "    <tr>\n",
       "      <th>3</th>\n",
       "      <td>Define four types of traceability.5.</td>\n",
       "      <td>remembering</td>\n",
       "    </tr>\n",
       "    <tr>\n",
       "      <th>4</th>\n",
       "      <td>Define mercantilism.6.</td>\n",
       "      <td>remembering</td>\n",
       "    </tr>\n",
       "  </tbody>\n",
       "</table>\n",
       "</div>"
      ],
      "text/plain": [
       "                                                Text       Target\n",
       "0  About what proportion of the population of the...  remembering\n",
       "1  Correctly label the brain lobes indicated on t...  remembering\n",
       "2                        Define compound interest.4.  remembering\n",
       "3               Define four types of traceability.5.  remembering\n",
       "4                             Define mercantilism.6.  remembering"
      ]
     },
     "execution_count": 12,
     "metadata": {},
     "output_type": "execute_result"
    }
   ],
   "source": [
    "import pandas as pd\n",
    "dataset = pd.read_csv('fullprojectdata.csv')\n",
    "dataset.head()"
   ]
  },
  {
   "cell_type": "code",
   "execution_count": 13,
   "metadata": {},
   "outputs": [],
   "source": [
    "sentences_list= list(dataset['Text'])\n"
   ]
  },
  {
   "cell_type": "markdown",
   "metadata": {},
   "source": [
    "#Preprocessing"
   ]
  },
  {
   "cell_type": "code",
   "execution_count": 14,
   "metadata": {},
   "outputs": [],
   "source": [
    "from nltk.tokenize import word_tokenize\n",
    "from nltk.tokenize.regexp import regexp_tokenize\n",
    "from spellchecker import SpellChecker"
   ]
  },
  {
   "cell_type": "code",
   "execution_count": 15,
   "metadata": {},
   "outputs": [],
   "source": [
    "pp_sentence_list=[]\n",
    "position_dict_list=[]\n",
    "for sentence in sentences_list:\n",
    "    cleaned = clean_text(sentence)\n",
    "    tokenized = tokenizer(cleaned)\n",
    "    spellchecked= spell_check(tokenized)\n",
    "    #stopwords_removed = remove_stopwords(spellchecked)\n",
    "    pos_dict,wordlist = lemma_pos(spellchecked)\n",
    "    pp_sentence_list.append(wordlist)\n",
    "    position_dict_list.append(pos_dict)"
   ]
  },
  {
   "cell_type": "code",
   "execution_count": 16,
   "metadata": {},
   "outputs": [],
   "source": [
    "tf=[]\n",
    "for (sentence, onedict) in zip(pp_sentence_list,position_dict_list):\n",
    "    output = term_freq(sentence,onedict)\n",
    "    tf.append(output)\n",
    "idf_list=idf(tf)\n",
    "tf_idf_dict=tf_idf(tf,idf_list)"
   ]
  },
  {
   "cell_type": "code",
   "execution_count": 17,
   "metadata": {
    "scrolled": true
   },
   "outputs": [],
   "source": [
    "sparse_matrix_dataset,unique_words = CSR(tf_idf_dict)"
   ]
  },
  {
   "cell_type": "code",
   "execution_count": 18,
   "metadata": {},
   "outputs": [],
   "source": [
    "import pickle\n",
    "with open('unique_words.pkl', 'wb') as f:\n",
    "    pickle.dump(unique_words, f)  \n",
    "   "
   ]
  },
  {
   "cell_type": "code",
   "execution_count": 19,
   "metadata": {},
   "outputs": [],
   "source": [
    "X= sparse_matrix_dataset"
   ]
  },
  {
   "cell_type": "code",
   "execution_count": 20,
   "metadata": {},
   "outputs": [],
   "source": [
    "from sklearn import preprocessing\n",
    "le = preprocessing.LabelEncoder()\n",
    "y=le.fit_transform(dataset['Target'])"
   ]
  },
  {
   "cell_type": "code",
   "execution_count": 21,
   "metadata": {},
   "outputs": [],
   "source": [
    "from sklearn.model_selection import train_test_split\n",
    "X_train, X_test, y_train, y_test = train_test_split(X, y, test_size=0.3,random_state=42)"
   ]
  },
  {
   "cell_type": "code",
   "execution_count": 24,
   "metadata": {},
   "outputs": [
    {
     "name": "stdout",
     "output_type": "stream",
     "text": [
      "Classification Report of KNN:\n",
      "               precision    recall  f1-score   support\n",
      "\n",
      "    analysing       0.96      0.87      0.91       100\n",
      "     applying       0.92      0.85      0.89       100\n",
      "     creating       0.88      0.97      0.92       104\n",
      "   evaluating       0.88      0.92      0.90        99\n",
      "  remembering       1.00      0.93      0.96        84\n",
      "understanding       0.90      0.97      0.93        96\n",
      "\n",
      "     accuracy                           0.92       583\n",
      "    macro avg       0.92      0.92      0.92       583\n",
      " weighted avg       0.92      0.92      0.92       583\n",
      "\n"
     ]
    }
   ],
   "source": [
    "from sklearn.neighbors import KNeighborsClassifier\n",
    "#for x in range(1,50):\n",
    " # 0-anaylsing 1-applying 2-creating 3-evaluating 4- remembering 5-understanding\n",
    "target_names = ['analysing', 'applying', 'creating','evaluating','remembering','understanding']\n",
    "knn = KNeighborsClassifier(n_neighbors=20, weights='distance')\n",
    "knn.fit(X_train, y_train)\n",
    "y_pred = knn.predict(X_test)\n",
    "    #print(\"x=\",x,end=\" \")\n",
    "from sklearn.metrics import classification_report\n",
    "print(\"Classification Report of KNN:\")\n",
    "print(classification_report(y_test, y_pred,target_names=target_names))"
   ]
  },
  {
   "cell_type": "code",
   "execution_count": 25,
   "metadata": {},
   "outputs": [
    {
     "name": "stdout",
     "output_type": "stream",
     "text": [
      "Classification Report of SVM:\n",
      "               precision    recall  f1-score   support\n",
      "\n",
      "    analysing       0.93      0.91      0.92       100\n",
      "     applying       0.92      0.88      0.90       100\n",
      "     creating       0.90      0.92      0.91       104\n",
      "   evaluating       0.93      0.93      0.93        99\n",
      "  remembering       0.92      0.99      0.95        84\n",
      "understanding       0.99      0.96      0.97        96\n",
      "\n",
      "     accuracy                           0.93       583\n",
      "    macro avg       0.93      0.93      0.93       583\n",
      " weighted avg       0.93      0.93      0.93       583\n",
      "\n"
     ]
    }
   ],
   "source": [
    "from sklearn.svm import SVC  \n",
    "svc = SVC(kernel='linear') \n",
    "svc.fit(X_train, y_train) \n",
    "y_pred = svc.predict(X_test)\n",
    "\n",
    "#from sklearn import metrics\n",
    "#print(\"Accuracy:\",metrics.accuracy_score(y_test, y_pred))\n",
    "from sklearn.metrics import classification_report\n",
    "print(\"Classification Report of SVM:\")\n",
    "print(classification_report(y_test, y_pred, target_names=target_names))"
   ]
  },
  {
   "cell_type": "code",
   "execution_count": 26,
   "metadata": {},
   "outputs": [
    {
     "name": "stdout",
     "output_type": "stream",
     "text": [
      "Classification Report of Naive Bayes:\n",
      "               precision    recall  f1-score   support\n",
      "\n",
      "    analysing       0.99      0.84      0.91       100\n",
      "     applying       0.88      0.89      0.89       100\n",
      "     creating       0.87      0.90      0.89       104\n",
      "   evaluating       0.91      0.91      0.91        99\n",
      "  remembering       0.91      0.96      0.94        84\n",
      "understanding       0.93      0.98      0.95        96\n",
      "\n",
      "     accuracy                           0.91       583\n",
      "    macro avg       0.91      0.91      0.91       583\n",
      " weighted avg       0.91      0.91      0.91       583\n",
      "\n"
     ]
    }
   ],
   "source": [
    "from sklearn.model_selection import train_test_split\n",
    "X_dense= X.toarray()\n",
    "X_train, X_test, y_train, y_test = train_test_split(X_dense,y, test_size=0.3,random_state=42)\n",
    "from sklearn.naive_bayes import GaussianNB\n",
    "from sklearn.metrics import confusion_matrix\n",
    " \n",
    "nb = GaussianNB();\n",
    "nb.fit(X_train, y_train)\n",
    "y_pred = nb.predict(X_test)\n",
    "\n",
    "#from sklearn import metrics\n",
    "#print(\"Accuracy:\",metrics.accuracy_score(y_test, y_pred))\n",
    "from sklearn.metrics import classification_report\n",
    "print(\"Classification Report of Naive Bayes:\")\n",
    "print(classification_report(y_test, y_pred, target_names=target_names))"
   ]
  },
  {
   "cell_type": "code",
   "execution_count": 27,
   "metadata": {},
   "outputs": [
    {
     "name": "stdout",
     "output_type": "stream",
     "text": [
      "Classification Report of Ensemble voter:\n",
      "               precision    recall  f1-score   support\n",
      "\n",
      "    analysing       0.95      0.91      0.93       100\n",
      "     applying       0.93      0.89      0.91       100\n",
      "     creating       0.91      0.92      0.92       104\n",
      "   evaluating       0.90      0.95      0.93        99\n",
      "  remembering       0.94      0.96      0.95        84\n",
      "understanding       0.98      0.98      0.98        96\n",
      "\n",
      "     accuracy                           0.93       583\n",
      "    macro avg       0.94      0.94      0.94       583\n",
      " weighted avg       0.94      0.93      0.93       583\n",
      "\n"
     ]
    }
   ],
   "source": [
    "from sklearn.ensemble import VotingClassifier\n",
    "import pickle\n",
    "estimator = []\n",
    "estimator.append(('KNN', knn))\n",
    "estimator.append(('SVC', svc))\n",
    "estimator.append(('NB', nb))\n",
    "\n",
    "votc = VotingClassifier(estimators = estimator, voting ='hard')\n",
    "votc.fit(X_train, y_train)\n",
    "y_pred = votc.predict(X_test)\n",
    "\n",
    "from sklearn import metrics\n",
    "from sklearn.metrics import classification_report\n",
    "print(\"Classification Report of Ensemble voter:\")\n",
    "print(classification_report(y_test, y_pred, target_names=target_names))\n"
   ]
  },
  {
   "cell_type": "code",
   "execution_count": 34,
   "metadata": {},
   "outputs": [
    {
     "data": {
      "image/png": "[encoded data removed]",
      "text/plain": [
       "<Figure size 3600x576 with 2 Axes>"
      ]
     },
     "metadata": {
      "needs_background": "light"
     },
     "output_type": "display_data"
    }
   ],
   "source": [
    "import scikitplot as skplt\n",
    "import matplotlib.pyplot as plt\n",
    "fig = plt.figure(figsize=(50,8))\n",
    "ax1 = fig.add_subplot(121)\n",
    "y_test_label=[]\n",
    "y_pred_label=[]\n",
    "for i in range(len(y_test)):\n",
    "    y_test_label.append(getLevel(y_test[i]))\n",
    "    y_pred_label.append(getLevel(y_pred[i]))\n",
    "skplt.metrics.plot_confusion_matrix(y_test_label, y_pred_label,\n",
    "                                    normalize=True,\n",
    "                                    title=\"Confusion Matrix\",\n",
    "                                    cmap=\"Purples\",\n",
    "                                    \n",
    "                                   ax=ax1);"
   ]
  },
  {
   "cell_type": "code",
   "execution_count": null,
   "metadata": {},
   "outputs": [],
   "source": [
    "import cufflinks as cf\n",
    "cf.go_offline()\n",
    "cf.set_config_file(offline=False, world_readable=True)\n",
    "dataset['Target'].iplot(\n",
    "    kind='hist',\n",
    "    bins=50,\n",
    "    xTitle='Blooms Taxonomy Level',\n",
    "    linecolor='black',\n",
    "    yTitle='count',\n",
    "    title='Blooms Taxonomy Levels Distribution')"
   ]
  },
  {
   "cell_type": "code",
   "execution_count": null,
   "metadata": {},
   "outputs": [],
   "source": [
    "modelfile = '26marchmodel.pkl'\n",
    "#pickle.dump(votc, open(modelfile, 'wb'))"
   ]
  },
  {
   "cell_type": "code",
   "execution_count": null,
   "metadata": {},
   "outputs": [],
   "source": [
    "import pickle\n",
    "loaded_model = pickle.load(open(modelfile, 'rb'))\n",
    "\n",
    "inp = input(\"\\n enter qn\")\n",
    "inplist=[]\n",
    "inplist.append(inp)\n",
    "pp_sentence_listi=[]\n",
    "position_dict_listi=[]\n",
    "for sentencei in inplist:\n",
    "    cleanedi = clean_text(sentencei)\n",
    "    tokenizedi = tokenizer(cleanedi)\n",
    "    spellcheckedi= spell_check(tokenizedi)\n",
    "    #stopwords_removed = remove_stopwords(spellchecked)\n",
    "    pos_dicti,wordlisti = lemma_pos(spellcheckedi)\n",
    "    print(pos_dicti)\n",
    "    pp_sentence_listi.append(wordlisti)\n",
    "    position_dict_listi.append(pos_dicti)\n",
    "tfi=[]\n",
    "for (sentencei, onedicti) in zip(pp_sentence_listi,position_dict_listi):\n",
    "    outputi = term_freq(sentencei,onedicti)\n",
    "    tfi.append(outputi)\n",
    "idf_listi=idf(tfi)\n",
    "tf_idf_dicti=tf_idf(tfi,idf_listi)\n",
    "print(\"Keywords in descending order of importance\")\n",
    "print(sorted(tf_idf_dicti[0].items(), key=lambda x: x[1], reverse=True))\n",
    "with open('unique_words.pkl', 'rb') as f:\n",
    "    unique_words_input = pickle.load(f)\n",
    "sparse_matrixi = CSR_input(unique_words_input, tf_idf_dicti)\n",
    "#print(\"sparse_matrixi\")\n",
    "#print(sparse_matrixi)\n",
    "sparse_inpi= sparse_matrixi\n",
    "predictedi = loaded_model.predict(sparse_inpi.toarray())\n",
    "print(\"Predicted level: \"+ getLevel(predictedi))\n",
    "\n"
   ]
  },
  {
   "cell_type": "code",
   "execution_count": null,
   "metadata": {},
   "outputs": [],
   "source": []
  },
  {
   "cell_type": "code",
   "execution_count": null,
   "metadata": {},
   "outputs": [],
   "source": []
  }
 ],
 "metadata": {
  "kernelspec": {
   "display_name": "Python 3",
   "language": "python",
   "name": "python3"
  },
  "language_info": {
   "codemirror_mode": {
    "name": "ipython",
    "version": 3
   },
   "file_extension": ".py",
   "mimetype": "text/x-python",
   "name": "python",
   "nbconvert_exporter": "python",
   "pygments_lexer": "ipython3",
   "version": "3.7.6"
  }
 },
 "nbformat": 4,
 "nbformat_minor": 4
}
